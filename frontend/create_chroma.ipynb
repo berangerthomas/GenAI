{
 "cells": [
  {
   "cell_type": "code",
   "execution_count": null,
   "metadata": {},
   "outputs": [],
   "source": [
    "import chromadb\n",
    "from chromadb.config import Settings\n",
    "import os\n",
    "from chromadb.utils import embedding_functions\n",
    "import hashlib"
   ]
  },
  {
   "cell_type": "code",
   "execution_count": null,
   "metadata": {},
   "outputs": [],
   "source": [
    "# Initialiser le client chroma_db en précisant le sous-répertoire de la base\n",
    "client = chromadb.PersistentClient(path=\"chroma_db\")"
   ]
  },
  {
   "cell_type": "code",
   "execution_count": null,
   "metadata": {},
   "outputs": [],
   "source": [
    "# Define the embedding function (e.g., OpenAI embedding function)\n",
    "# Define a local embedding function using sentence-transformers\n",
    "embedding_function = embedding_functions.SentenceTransformerEmbeddingFunction(\n",
    "    model_name=\"all-MiniLM-L6-v2\"\n",
    ")\n",
    "\n",
    "# Create a new collection in the Chroma DB\n",
    "collection_name = \"genai\"\n",
    "collection = client.get_or_create_collection(\n",
    "    name=collection_name, embedding_function=embedding_function\n",
    ")\n",
    "\n",
    "# Directory containing text files\n",
    "directory_path = \"data\"\n",
    "\n",
    "# Scan the directory and process each text file\n",
    "for file_name in os.listdir(directory_path):\n",
    "    file_path = os.path.join(directory_path, file_name)\n",
    "    if os.path.isfile(file_path) and file_name.endswith(\".txt\"):\n",
    "        with open(file_path, \"r\", encoding=\"utf-8\") as file:\n",
    "            text_data = file.read()\n",
    "\n",
    "        # Create a unique ID for the text data using its hash\n",
    "        file_id = hashlib.md5(file_name.encode(\"utf-8\")).hexdigest()[:12]\n",
    "\n",
    "        # Add the text data to the collection\n",
    "        collection.add(\n",
    "            documents=[text_data], metadatas=[{\"source\": file_path}], ids=[file_id]\n",
    "        )\n",
    "\n",
    "print(\n",
    "    f\"Collection '{collection_name}' created and all text files embedded successfully.\"\n",
    ")"
   ]
  },
  {
   "cell_type": "code",
   "execution_count": null,
   "metadata": {},
   "outputs": [],
   "source": [
    "# Lister les collections présentes\n",
    "collections = client.list_collections()\n",
    "print(\"Nombre de collections :\", len(collections))\n",
    "\n",
    "# Afficher le nombre de documents par collection\n",
    "for col_name in collections:\n",
    "    col_obj = client.get_collection(col_name)\n",
    "    data = col_obj.get(include=[\"documents\", \"metadatas\", \"embeddings\"])\n",
    "    doc_count = len(data.get(\"documents\", []))\n",
    "    print(f\"Collection '{col_name}' - Nombre de documents : {doc_count}\")\n",
    "\n",
    "    # Display IDs in the collection\n",
    "    ids = data.get(\"ids\", [])\n",
    "    print(f\"  IDs: {', '.join(ids)}\")\n",
    "\n",
    "    # Display metadata if available\n",
    "    metadatas = data.get(\"metadatas\")\n",
    "    if metadatas:\n",
    "        print(\"  Metadata:\")\n",
    "        for i, metadata in enumerate(metadatas):\n",
    "            print(f\"    Document {i + 1}: {metadata}\")\n",
    "\n",
    "    # Show preview of first document (truncated)\n",
    "    documents = data.get(\"documents\", [])\n",
    "    if documents and len(documents) > 0:\n",
    "        preview = (\n",
    "            documents[0][:200] + \"...\" if len(documents[0]) > 200 else documents[0]\n",
    "        )\n",
    "        print(f\"  Premier document (aperçu): {preview}\")\n",
    "\n",
    "    # Display embeddings if available\n",
    "    embeddings = data.get(\"embeddings\")\n",
    "    if embeddings is not None and len(embeddings) > 0:\n",
    "        print(\"  Embeddings:\")\n",
    "        for i, embedding in enumerate(embeddings):\n",
    "            print(\n",
    "                f\"    Document {i + 1}: {embedding[:10]}...\"\n",
    "            )  # Truncate for readability\n",
    "\n",
    "    print(\"-\" * 50)"
   ]
  }
 ],
 "metadata": {
  "kernelspec": {
   "display_name": "genai",
   "language": "python",
   "name": "python3"
  },
  "language_info": {
   "codemirror_mode": {
    "name": "ipython",
    "version": 3
   },
   "file_extension": ".py",
   "mimetype": "text/x-python",
   "name": "python",
   "nbconvert_exporter": "python",
   "pygments_lexer": "ipython3",
   "version": "3.9.21"
  }
 },
 "nbformat": 4,
 "nbformat_minor": 2
}
